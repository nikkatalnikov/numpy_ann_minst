{
 "cells": [
  {
   "cell_type": "code",
   "execution_count": 1,
   "metadata": {
    "collapsed": true
   },
   "outputs": [],
   "source": [
    "import time\n",
    "from ann.ANN import ANN\n",
    "import numpy as np\n",
    "\n",
    "\n",
    "training_set = np.loadtxt(\"./mnist/mnist_train.csv\", delimiter=\",\", max_rows=10000)\n",
    "test_set = np.loadtxt(\"./mnist/mnist_test.csv\", delimiter=\",\", max_rows=20)\n",
    "\n",
    "train_imgs = np.asfarray(training_set[:, 1:]) / 255\n",
    "test_imgs = np.asfarray(test_set[:, 1:]) / 255\n",
    "\n",
    "train_labels = np.asfarray(training_set[:, :1])\n",
    "test_labels = np.asfarray(test_set[:, :1])\n",
    "\n",
    "lables = np.arange(10)\n",
    "# transform labels into one activation representation\n",
    "train_labels_Y = (lables == train_labels).astype(np.int)\n",
    "test_labels_Y = (lables == test_labels).astype(np.int)"
   ]
  },
  {
   "cell_type": "code",
   "execution_count": 2,
   "outputs": [
    {
     "name": "stdout",
     "output_type": "stream",
     "text": [
      "epoch: 1, time taken: 2.62s, accuracy: 0.09\n",
      "epoch: 2, time taken: 2.66s, accuracy: 0.09\n",
      "epoch: 3, time taken: 2.63s, accuracy: 0.09\n",
      "epoch: 4, time taken: 2.62s, accuracy: 0.09\n",
      "epoch: 5, time taken: 2.71s, accuracy: 0.09\n",
      "Accuracy 0.09\n",
      "Accuracy 0.09\n",
      "Accuracy 0.09\n",
      "Accuracy 0.09\n",
      "Accuracy 0.09\n",
      "Accuracy 0.09\n",
      "Accuracy 0.09\n",
      "Accuracy 0.09\n",
      "Accuracy 0.09\n",
      "Accuracy 0.09\n"
     ]
    }
   ],
   "source": [
    "ANN_instance = ANN(x_dim=28 * 28, y_dim=10, layers_dim=28, Lambda=1, learning_rate=0.01)\n",
    "epochs = 5\n",
    "\n",
    "for epoch in range(epochs):\n",
    "    start_time = time.time()\n",
    "    # stochastic grad descent learning\n",
    "    for i in range(len(train_imgs)):\n",
    "        ANN_instance.train(train_imgs[i], train_labels_Y[i])\n",
    "    print(\"epoch: {0}, time taken: {1:.2f}s, accuracy: {2}\".\n",
    "        format(epoch+1, time.time() - start_time, ANN_instance.accuracy()))\n",
    "\n",
    "\n",
    "for i in range(10):\n",
    "    ANN_instance.classify(train_imgs[i], train_labels_Y[i])\n",
    "    print(\"Accuracy\", ANN_instance.accuracy())\n"
   ],
   "metadata": {
    "collapsed": false,
    "pycharm": {
     "name": "#%%\n"
    }
   }
  }
 ],
 "metadata": {
  "kernelspec": {
   "display_name": "Python 3",
   "language": "python",
   "name": "python3"
  },
  "language_info": {
   "codemirror_mode": {
    "name": "ipython",
    "version": 2
   },
   "file_extension": ".py",
   "mimetype": "text/x-python",
   "name": "python",
   "nbconvert_exporter": "python",
   "pygments_lexer": "ipython2",
   "version": "2.7.6"
  }
 },
 "nbformat": 4,
 "nbformat_minor": 0
}